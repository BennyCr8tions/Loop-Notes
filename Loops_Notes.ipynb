{
 "cells": [
  {
   "cell_type": "markdown",
   "metadata": {},
   "source": [
    "# Python Code Challenges involving loops.\n",
    "\n",
    "This lesson will help you review Python loops by providing some challenge exercises involving loops.\n",
    "\n",
    "Some of these challenges are difficult! Take some time to think about them before starting to code.\n",
    "\n",
    "You might not get the solution correct on your first try — look at your output, try to find where you’re going wrong, and iterate on your solution.\n",
    "\n",
    "Finally, if you get stuck, use our solution code! If you “Check Answer” twice with an incorrect solution, you should see an option to get our solution code. However, truly investigate that solution — experiment and play with the solution code until you have a good grasp of how it is working. Good luck!"
   ]
  },
  {
   "cell_type": "markdown",
   "metadata": {},
   "source": [
    "# Function and Loop Syntax\n",
    "\n",
    "As a refresher, function syntax looks like this:"
   ]
  },
  {
   "cell_type": "code",
   "execution_count": 27,
   "metadata": {},
   "outputs": [],
   "source": [
    "def some_function(some_input1, some_input2):\n",
    "      #… do something with the inputs …\n",
    "  return output"
   ]
  },
  {
   "cell_type": "markdown",
   "metadata": {},
   "source": [
    "For example, a function that prints all odd numbers in a list would look like this"
   ]
  },
  {
   "cell_type": "code",
   "execution_count": 28,
   "metadata": {},
   "outputs": [],
   "source": [
    "def odd_nums(lst):\n",
    "      for item in lst:\n",
    "        if item % 2 == 1:\n",
    "            print(item)"
   ]
  },
  {
   "cell_type": "markdown",
   "metadata": {},
   "source": [
    "And this would produce output like"
   ]
  },
  {
   "cell_type": "code",
   "execution_count": 29,
   "metadata": {},
   "outputs": [
    {
     "name": "stdout",
     "output_type": "stream",
     "text": [
      "7\n",
      "9\n",
      "13\n"
     ]
    },
    {
     "data": {
      "text/plain": [
       "13"
      ]
     },
     "execution_count": 29,
     "metadata": {},
     "output_type": "execute_result"
    }
   ],
   "source": [
    ">>> odd_nums([4, 7, 9, 10, 13])\n",
    "7\n",
    "9\n",
    "13"
   ]
  },
  {
   "cell_type": "markdown",
   "metadata": {},
   "source": [
    "# Challenges\n",
    "\n",
    "We’ve included 5 challenges below. Try to answer all of them and polish up your problem-solving skills and your loop expertise.\n",
    "\n",
    "# 1. Divisible By Ten\n",
    "\n",
    "Let’s start our code challenges with a function that counts how many numbers are divisible by ten from a list of numbers. This function will accept a list of numbers as an input parameter and use a loop to check each of the numbers in the list. Every time a number is divisible by 10, a counter will be incremented and the final count will be returned. These are the steps we need to complete this:\n",
    "\n",
    "1. Define the function to accept one input parameter called `nums`\n",
    "2. Initialize a counter to 0\n",
    "3. Loop through every number in `nums`\n",
    "4. Within the loop, if any of the numbers are divisible by 10, increment our counter\n",
    "5. Return the final counter value\n",
    "\n",
    "Create a function named `divisible_by_ten()` that takes a list of numbers named `nums` as a parameter.\n",
    "\n",
    "Return the count of how many numbers in the list are divisible by 10."
   ]
  },
  {
   "cell_type": "code",
   "execution_count": 30,
   "metadata": {},
   "outputs": [
    {
     "name": "stdout",
     "output_type": "stream",
     "text": [
      "3\n"
     ]
    }
   ],
   "source": [
    "#Write your function here\n",
    "def divisible_by_ten(nums):\n",
    "  count = 0\n",
    "  for number in nums:\n",
    "    if (number % 10 == 0):\n",
    "      count += 1\n",
    "  return count\n",
    "\n",
    "#Uncomment the line below when your function is done\n",
    "\n",
    "print(divisible_by_ten([20, 25, 30, 35, 40]))"
   ]
  },
  {
   "cell_type": "markdown",
   "metadata": {},
   "source": [
    "Let’s see how we solved it:"
   ]
  },
  {
   "cell_type": "code",
   "execution_count": 33,
   "metadata": {},
   "outputs": [],
   "source": [
    "def divisible_by_ten(nums):\n",
    "  count = 0\n",
    "  for number in nums:\n",
    "    if (number % 10 == 0):\n",
    "      count += 1\n",
    "  return count"
   ]
  },
  {
   "cell_type": "markdown",
   "metadata": {},
   "source": [
    "In this solution, we defined the function and set up our counter. We use a `for` loop to iterate through each number and check if it is divisible by ten. If a number is divisible by another number then the remainder should be zero, so we use modulus. After the loop has finished, we return our count.\n",
    "\n",
    "# 2. Greetings\n",
    "\n",
    "You are invited to a social gathering, but you are tired of greeting everyone there. Luckily we can create a function to accomplish this task for us. In this challenge, we will take a list of names and prepend the string `'Hello, '` before each name. This will require a few steps.\n",
    "\n",
    "1. Define the function to accept a list of strings as a single parameter called `names`\n",
    "2. Create a new list of strings\n",
    "3. Loop through each name in `names`\n",
    "4. Within the loop, concatenate `'Hello, '` and the current name together and append this new string to the new list of strings\n",
    "5. Afterwards, return the new list of strings"
   ]
  },
  {
   "cell_type": "markdown",
   "metadata": {},
   "source": [
    "Create a function named `add_greetings()` which takes a list of strings named `names` as a parameter.\n",
    "\n",
    "In the function, create an empty list that will contain each greeting. Add the string `'Hello, '` in front of each name in `names` and `append` the greeting to the list.\n",
    "\n",
    "Return the new list containing the greetings."
   ]
  },
  {
   "cell_type": "code",
   "execution_count": 34,
   "metadata": {},
   "outputs": [
    {
     "name": "stdout",
     "output_type": "stream",
     "text": [
      "['Hello, Owen', 'Hello, Max', 'Hello, Sophie']\n"
     ]
    }
   ],
   "source": [
    "#Write your function here\n",
    "def add_greetings(names):\n",
    "  new_list = []\n",
    "  for name in names:\n",
    "    new_list.append(\"Hello, \" + name)\n",
    "  return new_list\n",
    "\n",
    "#Uncomment the line below when your function is done\n",
    "\n",
    "print(add_greetings([\"Owen\", \"Max\", \"Sophie\"]))"
   ]
  },
  {
   "cell_type": "markdown",
   "metadata": {},
   "source": [
    "This is one way to solve it"
   ]
  },
  {
   "cell_type": "code",
   "execution_count": 35,
   "metadata": {},
   "outputs": [],
   "source": [
    "def add_greetings(names):\n",
    "  new_list = []\n",
    "  for name in names:\n",
    "    new_list.append(\"Hello, \" + name)\n",
    "  return new_list"
   ]
  },
  {
   "cell_type": "markdown",
   "metadata": {},
   "source": [
    "First, we set up our function to accept the list of strings and we initialized a new list of strings to hold our greetings. We iterate through each name and we append and concatenate the strings at the same time within our loop. Finally, we return the list containing all of our eloquent greetings.\n",
    "\n",
    "# 3. Delete Starting Even Numbers\n",
    "\n",
    "Let’s try a tricky challenge involving removing elements from a list. This function will repeatedly remove the first element of a list until it finds an odd number or runs out of elements. It will accept a list of numbers as an input parameter and return the modified list where any even numbers at the beginning of the list are removed. To do this, we will need the following steps:\n",
    "\n",
    "1. Define our function to accept a single input parameter `lst` which is a list of numbers\n",
    "2. Loop through every number in the list if there are still numbers in the list and if we haven’t hit an odd number yet\n",
    "3. Within the loop, if the first number in the list is even, then remove the first number of the list\n",
    "4. Once we hit an odd number or we run out of numbers, return the modified list"
   ]
  },
  {
   "cell_type": "markdown",
   "metadata": {},
   "source": [
    "Write a function called `delete_starting_evens()` that has a parameter named `lst`.\n",
    "\n",
    "The function should remove elements from the front of `lst` until the front of the list is not even. The function should then return `lst`.\n",
    "\n",
    "For example if `lst` started as `[4, 8, 10, 11, 12, 15]`, then `delete_starting_evens(lst)` should return `[11, 12, 15]`.\n",
    "\n",
    "Make sure your function works even if every element in the list is even!"
   ]
  },
  {
   "cell_type": "code",
   "execution_count": 36,
   "metadata": {},
   "outputs": [
    {
     "name": "stdout",
     "output_type": "stream",
     "text": [
      "[11, 12, 15]\n",
      "[]\n"
     ]
    }
   ],
   "source": [
    "#Write your function here\n",
    "def delete_starting_evens(lst):\n",
    "  while (len(lst) > 0 and lst[0] % 2 == 0):\n",
    "    lst = lst[1:]\n",
    "  return lst\n",
    "\n",
    "#Uncomment the lines below when your function is done\n",
    "print(delete_starting_evens([4, 8, 10, 11, 12, 15]))\n",
    "print(delete_starting_evens([4, 8, 10]))"
   ]
  },
  {
   "cell_type": "markdown",
   "metadata": {},
   "source": [
    "This is the way we solved it"
   ]
  },
  {
   "cell_type": "code",
   "execution_count": 37,
   "metadata": {},
   "outputs": [],
   "source": [
    "def delete_starting_evens(lst):\n",
    "    while (len(lst) > 0 and lst[0] % 2 == 0):\n",
    "        lst = lst[1:]\n",
    "    return lst"
   ]
  },
  {
   "cell_type": "markdown",
   "metadata": {},
   "source": [
    "After defining our method, we use a `while` loop to keep iterating as long as some provided conditions are true. We provide two conditions for the `while` loop to continue. We will keep iterating as long as there is at least one number left in the list `len(lst) > 0` and if the first element in the list is even `lst[0] % 2 == 0`. If both of these conditions are true, then we replace the list with every element except for the first one using `lst[1:]`. Once the list is empty or we hit an odd number, the `while` loop terminates and we return the modified list."
   ]
  },
  {
   "cell_type": "markdown",
   "metadata": {},
   "source": [
    "# 4. Odd Indices\n",
    "\n",
    "This next function will give us the values from a list at every odd index. We will need to accept a list of numbers as an input parameter and loop through the odd indices instead of the elements. Here are the steps needed:\n",
    "\n",
    "1. Define the function header to accept one input which will be our list of numbers\n",
    "2. Create a new list which will hold our values to return\n",
    "3. Iterate through every odd index until the end of the list\n",
    "4. Within the loop, get the element at the current odd index and append it to our new list\n",
    "5. Return the list of elements which we got from the odd indices."
   ]
  },
  {
   "cell_type": "markdown",
   "metadata": {},
   "source": [
    "Create a function named `odd_indices()` that has one parameter named `lst`.\n",
    "\n",
    "The function should create a new empty list and add every element from `lst` that has an odd index. The function should then return this new list.\n",
    "\n",
    "For example, `odd_indices([4, 3, 7, 10, 11, -2])` should return the list `[3, 10, -2]`."
   ]
  },
  {
   "cell_type": "code",
   "execution_count": 38,
   "metadata": {},
   "outputs": [
    {
     "name": "stdout",
     "output_type": "stream",
     "text": [
      "[3, 10, -2]\n"
     ]
    }
   ],
   "source": [
    "#Write your function here\n",
    "def odd_indices(lst):\n",
    "  new_lst = []\n",
    "  for index in range(1, len(lst), 2):\n",
    "    new_lst.append(lst[index])\n",
    "  return new_lst\n",
    "\n",
    "#Uncomment the line below when your function is done\n",
    "print(odd_indices([4, 3, 7, 10, 11, -2]))"
   ]
  },
  {
   "cell_type": "markdown",
   "metadata": {},
   "source": [
    "Here is this solution"
   ]
  },
  {
   "cell_type": "code",
   "execution_count": 39,
   "metadata": {},
   "outputs": [],
   "source": [
    "def odd_indices(lst):\n",
    "    new_lst = []\n",
    "    for index in range(1, len(lst), 2):\n",
    "        new_lst.append(lst[index])\n",
    "    return new_lst"
   ]
  },
  {
   "cell_type": "markdown",
   "metadata": {},
   "source": [
    "In our solution, we iterate through a range of values. The function `range(1, len(lst), 2)` returns a list of numbers starting at 1, ending at the length of `len`, and incrementing by 2. This causes the loop to iterate through every odd number until the last index of our list of numbers. Using this, we can simply append the element at whatever index we are at since we know that using our `range` we will be iterating through only odd indices.\n",
    "\n",
    "Another way to do this would be to iterate through all indices and use an if statement to see if the index you’re currently looking at is odd."
   ]
  },
  {
   "cell_type": "markdown",
   "metadata": {},
   "source": [
    "# 5. Exponents\n",
    "In this challenge, we will be using nested loops in order to raise a list of numbers to the power of a list of other numbers. What this means is that for every number in the first list, we will raise that number to the power of every number in the second list. If you provide the first list with 2 elements and the second list with 3 numbers, then there will be 6 final answers. Let’s look at the steps we need:\n",
    "\n",
    "1. Define the function to accept two lists of numbers, `bases` and `powers`\n",
    "2. Create a new list that will contain our answers\n",
    "3. Create a loop that iterates through every base in `bases`\n",
    "4. Within that loop, create another loop that iterates through every power in `power`\n",
    "5. Within that nested loop, append the result of the current base raised to the current power.\n",
    "6. After all iterations of both loops are complete, return the list of answers"
   ]
  },
  {
   "cell_type": "markdown",
   "metadata": {},
   "source": [
    "Create a function named `exponents()` that takes two lists as parameters named `bases` and `powers`. Return a new list containing every number in bases `raised` to every number in `powers`.\n",
    "\n",
    "For example, consider the following code."
   ]
  },
  {
   "cell_type": "code",
   "execution_count": 40,
   "metadata": {},
   "outputs": [
    {
     "data": {
      "text/plain": [
       "[2, 4, 8, 3, 9, 27, 4, 16, 64]"
      ]
     },
     "execution_count": 40,
     "metadata": {},
     "output_type": "execute_result"
    }
   ],
   "source": [
    "exponents([2, 3, 4], [1, 2, 3])"
   ]
  },
  {
   "cell_type": "markdown",
   "metadata": {},
   "source": [
    "the result would be the list `[2, 4, 8, 3, 9, 27, 4, 16, 64]`. It would first add two to the first. Then two to the second. Then two to the third, and so on."
   ]
  },
  {
   "cell_type": "code",
   "execution_count": 41,
   "metadata": {},
   "outputs": [
    {
     "name": "stdout",
     "output_type": "stream",
     "text": [
      "[2, 4, 8, 3, 9, 27, 4, 16, 64]\n"
     ]
    }
   ],
   "source": [
    "#Write your function here\n",
    "def exponents(bases, powers):\n",
    "  new_lst = []\n",
    "  for base in bases:\n",
    "    for power in powers:\n",
    "      new_lst.append(base ** power)\n",
    "  return new_lst\n",
    "\n",
    "#Uncomment the line below when your function is done\n",
    "print(exponents([2, 3, 4], [1, 2, 3]))"
   ]
  },
  {
   "cell_type": "markdown",
   "metadata": {},
   "source": [
    "Here is how we solved this one"
   ]
  },
  {
   "cell_type": "code",
   "execution_count": 42,
   "metadata": {},
   "outputs": [],
   "source": [
    "def exponents(bases, powers):\n",
    "  new_lst = []\n",
    "  for base in bases:\n",
    "    for power in powers:\n",
    "      new_lst.append(base ** power)\n",
    "  return new_lst"
   ]
  },
  {
   "cell_type": "markdown",
   "metadata": {},
   "source": [
    "As you can see in this solution, we used two nested `for` loops so that, for every base, we iterate through every power. This allows us to raise each base to every single power in our list and append the answers to our new list. Finally, we return the list of answers."
   ]
  }
 ],
 "metadata": {
  "kernelspec": {
   "display_name": "Python 3.10.6 64-bit",
   "language": "python",
   "name": "python3"
  },
  "language_info": {
   "codemirror_mode": {
    "name": "ipython",
    "version": 3
   },
   "file_extension": ".py",
   "mimetype": "text/x-python",
   "name": "python",
   "nbconvert_exporter": "python",
   "pygments_lexer": "ipython3",
   "version": "3.10.6"
  },
  "orig_nbformat": 4,
  "vscode": {
   "interpreter": {
    "hash": "52b1b21efe49a325aa6e80bcc8cd3d533fb7962068e452371aaa8868ec796175"
   }
  }
 },
 "nbformat": 4,
 "nbformat_minor": 2
}
