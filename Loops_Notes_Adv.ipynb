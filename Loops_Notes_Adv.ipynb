{
 "cells": [
  {
   "cell_type": "markdown",
   "metadata": {},
   "source": [
    "# Difficult Python Code Challenges involving Loops\n",
    "This lesson will help you review Python loops by providing some challenge exercises involving loops.\n",
    "\n",
    "Some of these challenges are difficult! Take some time to think about them before starting to code.\n",
    "\n",
    "You might not get the solution correct on your first try — look at your output, try to find where you’re going wrong, and iterate on your solution.\n",
    "\n",
    "Finally, if you get stuck, use our solution code! If you “Check Answer” twice with an incorrect solution, you should see an option to get our solution code. However, truly investigate that solution — experiment and play with the solution code until you have a good grasp of how it is working. Good luck!\n",
    "\n",
    "# Function and Loop Syntax\n",
    "As a refresher, function syntax looks like this:"
   ]
  },
  {
   "cell_type": "code",
   "execution_count": 3,
   "metadata": {},
   "outputs": [],
   "source": [
    "def some_function(some_input1, some_input2):\n",
    "      #… do something with the inputs …\n",
    "  return output"
   ]
  },
  {
   "cell_type": "markdown",
   "metadata": {},
   "source": [
    "For example, a function that prints all odd numbers in a list would look like this:"
   ]
  },
  {
   "cell_type": "code",
   "execution_count": 5,
   "metadata": {},
   "outputs": [],
   "source": [
    "def odd_nums(lst):\n",
    "    for item in lst:\n",
    "        if item % 2 == 1:\n",
    "            print(item)"
   ]
  },
  {
   "cell_type": "markdown",
   "metadata": {},
   "source": [
    "And this would produce output like:"
   ]
  },
  {
   "cell_type": "code",
   "execution_count": 6,
   "metadata": {},
   "outputs": [
    {
     "name": "stdout",
     "output_type": "stream",
     "text": [
      "7\n",
      "9\n",
      "13\n"
     ]
    },
    {
     "data": {
      "text/plain": [
       "13"
      ]
     },
     "execution_count": 6,
     "metadata": {},
     "output_type": "execute_result"
    }
   ],
   "source": [
    ">>> odd_nums([4, 7, 9, 10, 13])\n",
    "7\n",
    "9\n",
    "13"
   ]
  },
  {
   "cell_type": "markdown",
   "metadata": {},
   "source": [
    "# Challenges\n",
    "We’ve included 5 challenges below. Try to answer all of them and polish up your problem-solving skills and your loop expertise.\n",
    "\n",
    "# 1. Larger Sum\n",
    "We are going to start our advanced challenge problems by calculating which list of two inputs has the larger sum. We will iterate through each of the list and calculate the sums, afterwards we will compare the two and return which one has a greater sum. Here are the steps we need:\n",
    "\n",
    "1. Define the function to accept two input parameters: `lst1` and `lst2`\n",
    "2. Create two variables to record the two sums\n",
    "3. Loop through the first list and add up all of the numbers\n",
    "4. Loop through the second list and add up all of the numbers\n",
    "5. Compare the first and second sum and return the list with the greater sum"
   ]
  },
  {
   "cell_type": "markdown",
   "metadata": {},
   "source": [
    "Create a function named `larger_sum()` that takes two lists of numbers as parameters named `lst1` and `lst2`.\n",
    "\n",
    "The function should return the list whose elements sum to the greater number. If the sum of the elements of each list are equal, return `lst1`."
   ]
  },
  {
   "cell_type": "code",
   "execution_count": 7,
   "metadata": {},
   "outputs": [
    {
     "name": "stdout",
     "output_type": "stream",
     "text": [
      "[1, 9, 5]\n"
     ]
    }
   ],
   "source": [
    "#Write your function here\n",
    "def larger_sum(lst1, lst2):\n",
    "  sum1 = 0\n",
    "  sum2 = 0\n",
    "  for number in lst1:\n",
    "    sum1 += number\n",
    "  for number in lst2:\n",
    "    sum2 += number\n",
    "  if sum1 >= sum2:\n",
    "    return lst1\n",
    "  else: \n",
    "    return lst2\n",
    "\n",
    "#Uncomment the line below when your function is done\n",
    "print(larger_sum([1, 9, 5], [2, 3, 7]))"
   ]
  },
  {
   "cell_type": "markdown",
   "metadata": {},
   "source": [
    "Here’s one way to do it:"
   ]
  },
  {
   "cell_type": "code",
   "execution_count": 26,
   "metadata": {},
   "outputs": [],
   "source": [
    "def larger_sum(lst1, lst2):\n",
    "  sum1 = 0\n",
    "  sum2 = 0\n",
    "  for number in lst1:\n",
    "    sum1 += number\n",
    "  for number in lst2:\n",
    "    sum2 += number\n",
    "  if sum1 >= sum2:\n",
    "    return lst1\n",
    "  else: \n",
    "    return lst2"
   ]
  },
  {
   "cell_type": "markdown",
   "metadata": {},
   "source": [
    "In this solution, we manually iterate through each element in each list and calculate our sums. We then return the list with the greater sum and break the tie by returning `lst1`. You can also try solving this problem using the `sum()` function in python. The body of this function could also be condensed into one line of code if you want an additional challenge!\n",
    "\n",
    "---\n",
    "\n",
    "# 2. Over 9000\n",
    "We are constructing a device that is able to measure the power level of our coding abilities and according to the device, it will be impossible for our power levels to be over 9000. Because of this, as we iterate through a list of power values we will count up each of the numbers until our sum reaches a value greater than 9000. Once this happens, we should stop adding the numbers and return the value where we stopped. In order to do this, we will need the following steps:\n",
    "\n",
    "1. Define the function to accept a list of numbers\n",
    "2. Create a variable to keep track of our sum\n",
    "3. Iterate through every element in our list of numbers\n",
    "4. Within the loop, add the current number we are looking at to our sum\n",
    "5. Still within the loop, check if the sum is greater than 9000. If it is, end the loop\n",
    "6. Return the value of the sum when we ended our loop\n",
    "\n",
    "## Coding question\n",
    "\n",
    "Create a function named `over_nine_thousand()` that takes a list of numbers named `lst` as a parameter.\n",
    "\n",
    "The function should sum the elements of the list until the sum is greater than `9000`. When this happens, the function should return the sum. If the sum of all of the elements is never greater than `9000`, the function should return total sum of all the elements. If the list is empty, the function should return `0`.\n",
    "\n",
    "For example, if `lst` was `[8000, 900, 120, 5000]`, then the function should return `9020`."
   ]
  },
  {
   "cell_type": "code",
   "execution_count": 27,
   "metadata": {},
   "outputs": [
    {
     "name": "stdout",
     "output_type": "stream",
     "text": [
      "9020\n"
     ]
    }
   ],
   "source": [
    "#Write your function here\n",
    "def over_nine_thousand(lst):\n",
    "  sum = 0\n",
    "  for number in lst:\n",
    "    sum += number\n",
    "    if (sum > 9000):\n",
    "      break\n",
    "  return sum\n",
    "\n",
    "#Uncomment the line below when your function is done\n",
    "print(over_nine_thousand([8000, 900, 120, 5000]))"
   ]
  },
  {
   "cell_type": "markdown",
   "metadata": {},
   "source": [
    "Here is this solution:"
   ]
  },
  {
   "cell_type": "code",
   "execution_count": 28,
   "metadata": {},
   "outputs": [],
   "source": [
    "def over_nine_thousand(lst):\n",
    "    sum = 0\n",
    "    for number in lst:\n",
    "        sum += number\n",
    "        if (sum > 9000):\n",
    "            break\n",
    "    return sum"
   ]
  },
  {
   "cell_type": "markdown",
   "metadata": {},
   "source": [
    "Our solution follows a similar pattern to some of the other code challenges, except that we have a condition where we end early. In the case where we reach a sum greater than 9000, we can use the `break` keyword to exit our loop. This will continue to execute the code outside of our loop, which in this case, returns the sum that we found.\n",
    "\n",
    "---\n",
    "\n",
    "# 3. Max Num\n",
    "\n",
    "Here is a more traditional coding problem for you. This function will be used to find the maximum number in a list of numbers. This can be accomplished using the `max()` function in python, but as a challenge, we are going to manually implement this function. Here is what we need to do:\n",
    "\n",
    "1. Define the function to accept a list of numbers called `nums`\n",
    "2. Set our default maximum value to be the first element in the list\n",
    "3. Loop through every number in the list of numbers\n",
    "4. Within the loop, if we find a number greater than our starting maximum, then replace the maximum with what we found.\n",
    "5. Return the maximum number\n",
    "\n",
    "## Coding question\n",
    "Create a function named `max_num()` that takes a list of numbers named `nums` as a parameter.\n",
    "\n",
    "The function should return the largest number in `nums`"
   ]
  },
  {
   "cell_type": "code",
   "execution_count": 29,
   "metadata": {},
   "outputs": [
    {
     "name": "stdout",
     "output_type": "stream",
     "text": [
      "75\n"
     ]
    }
   ],
   "source": [
    "#Write your function here\n",
    "def max_num(nums):\n",
    "  maximum = nums[0]\n",
    "  for number in nums:\n",
    "    if number > maximum:\n",
    "      maximum = number\n",
    "  return maximum\n",
    "\n",
    "#Uncomment the line below when your function is done\n",
    "print(max_num([50, -10, 0, 75, 20]))"
   ]
  },
  {
   "cell_type": "markdown",
   "metadata": {},
   "source": [
    "Here is one way to solve this:"
   ]
  },
  {
   "cell_type": "code",
   "execution_count": 30,
   "metadata": {},
   "outputs": [],
   "source": [
    "def max_num(nums):\n",
    "    maximum = nums[0]\n",
    "    for number in nums:\n",
    "        if number > maximum:\n",
    "            maximum = number\n",
    "    return maximum"
   ]
  },
  {
   "cell_type": "markdown",
   "metadata": {},
   "source": [
    "There are a few different ways to accomplish this task, but the way we did it was to check every element in the list and see if there is one bigger than what we currently think is the biggest. If there is a bigger one, then replace it. We keep replacing the number until the largest number has been found.\n",
    "\n",
    "---\n",
    "\n",
    "# 4. Same Values\n",
    "In this challenge, we need to find the indices in two equally sized lists where the numbers match. We will be iterating through both of them at the same time and comparing the values, if the numbers are equal, then we record the index. These are the steps we need to accomplish this:\n",
    "\n",
    "1. Define our function to accept two lists of numbers\n",
    "2. Create a new list to store our matching indices\n",
    "3. Loop through each index to the end of either of our lists\n",
    "4. Within the loop, check if our first list at the current index is equal to the second list at the current index. If so, append the index where they matched\n",
    "5. Return our list of indices\n",
    "\n",
    "## Coding question\n",
    "Write a function named `same_values()` that takes two lists of numbers of equal size as parameters.\n",
    "\n",
    "The function should return a list of the indices where the values were equal in `lst1` and `lst2`.\n",
    "\n",
    "For example, the following code should return `[0, 2, 3]`"
   ]
  },
  {
   "cell_type": "code",
   "execution_count": 31,
   "metadata": {},
   "outputs": [],
   "source": [
    "#same_values([5, 1, -10, 3, 3], [5, 10, -10, 3, 5])"
   ]
  },
  {
   "cell_type": "code",
   "execution_count": 32,
   "metadata": {},
   "outputs": [
    {
     "name": "stdout",
     "output_type": "stream",
     "text": [
      "[0, 2, 3]\n"
     ]
    }
   ],
   "source": [
    "#Write your function here\n",
    "def same_values(lst1, lst2):\n",
    "  new_lst = []\n",
    "  for index in range(len(lst1)):\n",
    "    if lst1[index] == lst2[index]:\n",
    "      new_lst.append(index)\n",
    "  return new_lst\n",
    "\n",
    "#Uncomment the line below when your function is done\n",
    "print(same_values([5, 1, -10, 3, 3], [5, 10, -10, 3, 5]))"
   ]
  },
  {
   "cell_type": "markdown",
   "metadata": {},
   "source": [
    "Here’s how we did it:"
   ]
  },
  {
   "cell_type": "code",
   "execution_count": 33,
   "metadata": {},
   "outputs": [],
   "source": [
    "def same_values(lst1, lst2):\n",
    "    new_lst = []\n",
    "    for index in range(len(lst1)):\n",
    "        if lst1[index] == lst2[index]:\n",
    "            new_lst.append(index)\n",
    "    return new_lst"
   ]
  },
  {
   "cell_type": "markdown",
   "metadata": {},
   "source": [
    "In this solution, we used a loop that iterates using the `range` of the `len` of our list. This generates the indices we need to iterate through. Note that we assume the lists are of equal size. We then access the element at the current index from each list using `lst1[index]` and `lst2[index]`. If they are equal we add the index to the new list. Finally, we return the results.\n",
    "\n",
    "---\n",
    "\n",
    "## 5. Reversed List\n",
    "For the final challenge, we are going to test two lists to see if the second list is the reverse of the first list. There are a few different ways to approach this, but we are going to try a method that iterates through each of the values in one direction for the first list and compares them against the values starting from the other direction in the second list. Here is what you need to do:\n",
    "\n",
    "1. Define a function that has two input parameters for our lists\n",
    "2. Loop through every index in one of the lists from beginning to end\n",
    "3. Within the loop, compare the element in the first list at the current index against the element at the second list’s last index minus the current index. If there was a mismatch, then the lists aren’t reversed and we can return `False`\n",
    "4. If the loop ended successfully, then we know the lists are reversed and we can return `True`.\n",
    "\n",
    "## Coding question\n",
    "Create a function named `reversed_list()` that takes two lists of the same size as parameters named `lst1` and `lst2`.\n",
    "\n",
    "The function should return `True` if `lst1` is the same as `lst2` reversed. The function should return `False` otherwise.\n",
    "\n",
    "For example, `reversed_list([1, 2, 3], [3, 2, 1])` should return `True`."
   ]
  },
  {
   "cell_type": "code",
   "execution_count": 34,
   "metadata": {},
   "outputs": [
    {
     "name": "stdout",
     "output_type": "stream",
     "text": [
      "True\n",
      "False\n"
     ]
    }
   ],
   "source": [
    "#Write your function here\n",
    "def reversed_list(lst1, lst2):\n",
    "  for index in range(len(lst1)):\n",
    "    if lst1[index] != lst2[len(lst2) - 1 - index]:\n",
    "      return False\n",
    "  return True\n",
    "\n",
    "#Uncomment the lines below when your function is done\n",
    "print(reversed_list([1, 2, 3], [3, 2, 1]))\n",
    "print(reversed_list([1, 5, 3], [3, 2, 1]))"
   ]
  },
  {
   "cell_type": "markdown",
   "metadata": {},
   "source": [
    "Here is one way to do it:"
   ]
  },
  {
   "cell_type": "code",
   "execution_count": 35,
   "metadata": {},
   "outputs": [],
   "source": [
    "def reversed_list(lst1, lst2):\n",
    "    for index in range(len(lst1)):\n",
    "        if lst1[index] != lst2[len(lst2) - 1 - index]:\n",
    "            return False\n",
    "    return True"
   ]
  },
  {
   "cell_type": "markdown",
   "metadata": {},
   "source": [
    "In this code, we iterate through each of the indices for the entire length of either of the lists (since we assume the lengths are equal) and we perform a comparison on each of the elements. We get the element at the current index from our first list with `lst1[index]` and we test it against the last index of the second list minus the current index `len(lst2) - 1 – index`.\n",
    "\n",
    "That math is a little complicated — it helps to look at a concrete example. If we are given a list of 5 elements, the valid indices are 0 to 4. Because of this, the last index in the second list is `len(lst2) - 1`, or `5 - 1 = 4`. Now in order to get the inverse of the position we are at in the first list, we subtract the index we are at from the end of the second list. So on the first pass, we’ll compare the element at position `0` to the element at position `5 - 1 - 0 = 4`. On the next pass, we’ll compare the element at position `1` to the element at position `5 - 1 - 1 = 3`, and so on.\n",
    "\n",
    "If any of the two elements are not equal then we know that the second list is not the reverse of the first list and we return `False`. If we made it to the end without a mismatch then we can return `True` since the second list is the reverse of the first. You could also try simplifying this code by using the python function `reversed()` or other methods that you will learn later on such as ‘slicing’."
   ]
  }
 ],
 "metadata": {
  "kernelspec": {
   "display_name": "Python 3.10.6 64-bit",
   "language": "python",
   "name": "python3"
  },
  "language_info": {
   "codemirror_mode": {
    "name": "ipython",
    "version": 3
   },
   "file_extension": ".py",
   "mimetype": "text/x-python",
   "name": "python",
   "nbconvert_exporter": "python",
   "pygments_lexer": "ipython3",
   "version": "3.10.6"
  },
  "orig_nbformat": 4,
  "vscode": {
   "interpreter": {
    "hash": "52b1b21efe49a325aa6e80bcc8cd3d533fb7962068e452371aaa8868ec796175"
   }
  }
 },
 "nbformat": 4,
 "nbformat_minor": 2
}
